{
 "cells": [
  {
   "cell_type": "markdown",
   "id": "402caa1c",
   "metadata": {},
   "source": [
    "# Data Science Tools and Ecosystem"
   ]
  },
  {
   "cell_type": "markdown",
   "id": "e19d8730",
   "metadata": {},
   "source": [
    "# In this notebook, Data Science Tools and Ecosystem are summarized"
   ]
  },
  {
   "cell_type": "markdown",
   "id": "042052d6",
   "metadata": {},
   "source": [
    "__Objectives__\n",
    "- Popular Languages for Data science\n",
    "- Commonly used Libraries by Data Scientists\n",
    "- Data Science tools\n",
    "- Evaluating arithmetic expressions "
   ]
  },
  {
   "cell_type": "markdown",
   "id": "3c528802",
   "metadata": {},
   "source": [
    "# Some of the popular languages that Data scientists use are:\n",
    "1. Python\n",
    "2. R\n",
    "3. SQL\n",
    "4. Scala\n",
    "5. Java\n",
    "6. C++\n",
    "7. Julia"
   ]
  },
  {
   "cell_type": "markdown",
   "id": "59bb9433",
   "metadata": {},
   "source": [
    "# Some of the commonly used libraries used by Data Scientists include:\n",
    "1. Scientifics computing library in Python\n",
    "2. Visualization Libraries in Python\n",
    "3. Python Libraries for machine learning, the Scikit-learn library\n",
    "4. Python Libraries for deep learning\n",
    "5. Scala Libraries\n",
    "6. R Libraries"
   ]
  },
  {
   "cell_type": "markdown",
   "id": "0dcd2647",
   "metadata": {},
   "source": [
    "| Data Science tools |\n",
    "|-------------------------------|\n",
    "| Jupyter |\n",
    "| R Studio |\n",
    "| Spyder |\n"
   ]
  },
  {
   "cell_type": "markdown",
   "id": "09512f54",
   "metadata": {},
   "source": [
    "### Below are a few examples of evaluating arithmetic expressions in Python"
   ]
  },
  {
   "cell_type": "code",
   "execution_count": 1,
   "id": "8723dea8",
   "metadata": {},
   "outputs": [
    {
     "data": {
      "text/plain": [
       "17"
      ]
     },
     "execution_count": 1,
     "metadata": {},
     "output_type": "execute_result"
    }
   ],
   "source": [
    "#This is a simple arithmetic expression to multiply then add integers\n",
    "(3*4)+5"
   ]
  },
  {
   "cell_type": "code",
   "execution_count": 7,
   "id": "db779965",
   "metadata": {},
   "outputs": [
    {
     "data": {
      "text/plain": [
       "3.3333333333333335"
      ]
     },
     "execution_count": 7,
     "metadata": {},
     "output_type": "execute_result"
    }
   ],
   "source": [
    "#This will convert 200 minutes into hours by dividing by 60\n",
    "200/60"
   ]
  },
  {
   "cell_type": "markdown",
   "id": "bdf834ac",
   "metadata": {},
   "source": [
    "## Author\n",
    "Sukanya Guha Roy"
   ]
  },
  {
   "cell_type": "code",
   "execution_count": null,
   "id": "062f9334",
   "metadata": {},
   "outputs": [],
   "source": []
  }
 ],
 "metadata": {
  "kernelspec": {
   "display_name": "Python 3",
   "language": "python",
   "name": "python3"
  },
  "language_info": {
   "codemirror_mode": {
    "name": "ipython",
    "version": 3
   },
   "file_extension": ".py",
   "mimetype": "text/x-python",
   "name": "python",
   "nbconvert_exporter": "python",
   "pygments_lexer": "ipython3",
   "version": "3.8.8"
  }
 },
 "nbformat": 4,
 "nbformat_minor": 5
}
